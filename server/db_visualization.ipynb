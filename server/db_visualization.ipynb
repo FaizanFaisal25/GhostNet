{
 "cells": [
  {
   "cell_type": "code",
   "execution_count": 4,
   "metadata": {},
   "outputs": [],
   "source": [
    "import json\n",
    "from datetime import datetime, timedelta\n",
    "import random\n",
    "import sqlite3\n",
    "from config import DATABASE\n",
    "from db_functions import *"
   ]
  },
  {
   "cell_type": "code",
   "execution_count": 5,
   "metadata": {},
   "outputs": [],
   "source": [
    "db = sqlite3.connect(DATABASE)"
   ]
  },
  {
   "cell_type": "code",
   "execution_count": 6,
   "metadata": {},
   "outputs": [],
   "source": [
    "def get_table_info(db, table_name, get_all_items=False):\n",
    "    cursor = db.cursor()\n",
    "\n",
    "    count_query = f\"SELECT COUNT(*) FROM {table_name}\"\n",
    "    cursor.execute(count_query)\n",
    "    row_count = cursor.fetchone()[0]\n",
    "\n",
    "    if get_all_items:\n",
    "        select_query = f\"SELECT * FROM {table_name}\"\n",
    "    else:\n",
    "        select_query = f\"SELECT * FROM {table_name} LIMIT 5\"\n",
    "\n",
    "    cursor.execute(select_query)\n",
    "    items = cursor.fetchall()\n",
    "\n",
    "    print(f\"Number of items in the table '{table_name}': {row_count}\")\n",
    "    if get_all_items:\n",
    "        print(\"All items:\")\n",
    "    else:\n",
    "        print(\"First 5 items:\")\n",
    "\n",
    "    for item in items:\n",
    "        print(item)"
   ]
  },
  {
   "cell_type": "code",
   "execution_count": 7,
   "metadata": {},
   "outputs": [
    {
     "ename": "OperationalError",
     "evalue": "no such table: users",
     "output_type": "error",
     "traceback": [
      "\u001b[0;31m---------------------------------------------------------------------------\u001b[0m",
      "\u001b[0;31mOperationalError\u001b[0m                          Traceback (most recent call last)",
      "Cell \u001b[0;32mIn[7], line 1\u001b[0m\n\u001b[0;32m----> 1\u001b[0m \u001b[43mget_table_info\u001b[49m\u001b[43m(\u001b[49m\u001b[43mdb\u001b[49m\u001b[43m,\u001b[49m\u001b[43m \u001b[49m\u001b[38;5;124;43m'\u001b[39;49m\u001b[38;5;124;43musers\u001b[39;49m\u001b[38;5;124;43m'\u001b[39;49m\u001b[43m)\u001b[49m\n",
      "Cell \u001b[0;32mIn[6], line 5\u001b[0m, in \u001b[0;36mget_table_info\u001b[0;34m(db, table_name, get_all_items)\u001b[0m\n\u001b[1;32m      2\u001b[0m cursor \u001b[38;5;241m=\u001b[39m db\u001b[38;5;241m.\u001b[39mcursor()\n\u001b[1;32m      4\u001b[0m count_query \u001b[38;5;241m=\u001b[39m \u001b[38;5;124mf\u001b[39m\u001b[38;5;124m\"\u001b[39m\u001b[38;5;124mSELECT COUNT(*) FROM \u001b[39m\u001b[38;5;132;01m{\u001b[39;00mtable_name\u001b[38;5;132;01m}\u001b[39;00m\u001b[38;5;124m\"\u001b[39m\n\u001b[0;32m----> 5\u001b[0m \u001b[43mcursor\u001b[49m\u001b[38;5;241;43m.\u001b[39;49m\u001b[43mexecute\u001b[49m\u001b[43m(\u001b[49m\u001b[43mcount_query\u001b[49m\u001b[43m)\u001b[49m\n\u001b[1;32m      6\u001b[0m row_count \u001b[38;5;241m=\u001b[39m cursor\u001b[38;5;241m.\u001b[39mfetchone()[\u001b[38;5;241m0\u001b[39m]\n\u001b[1;32m      8\u001b[0m \u001b[38;5;28;01mif\u001b[39;00m get_all_items:\n",
      "\u001b[0;31mOperationalError\u001b[0m: no such table: users"
     ]
    }
   ],
   "source": [
    "get_table_info(db, 'users')"
   ]
  },
  {
   "cell_type": "code",
   "execution_count": null,
   "metadata": {},
   "outputs": [
    {
     "name": "stdout",
     "output_type": "stream",
     "text": [
      "Number of items in the table 'posts': 14\n",
      "First 5 items:\n",
      "(1, 'business-insider', 'Business Insider', 9, 'The courts could decide this presidential election, and both campaigns are gearing up for an ugly legal fight', \"Legal challenges to the outcome of this year's election are all but inevitable, and both campaigns are preparing for a nasty fight in court.\", 'https://www.businessinsider.com/donald-trump-kamala-harris-preparing-legal-challenges-election-decided-court-2024-8', 'https://i.insider.com/66cb9e61c72ebc54a40ea6d0?width=1200&format=jpeg', '2024-08-26T09:22:02Z', \"Both the Trump and Harris campaigns are gearing up for a nasty legal battle in court over the outcome of this year's election.Brandon Bell/Getty Images and Andrew Harnik/Getty Images\\r\\n<ul><li>Legal e… [+4717 chars]\")\n",
      "(2, 'time', 'Time', 8, 'How to Read Political Polls Like a Pro', \"It's easy to misread polls. Here's a handy guide to what campaign professionals consider with every poll they see\", 'https://time.com/7012220/how-read-political-polls-like-a-pro/', 'https://api.time.com/wp-content/uploads/2024/08/political-polls-2.gif?w=1200&h=628&crop=1', '2024-08-26T11:00:00Z', 'This article is part of The D.C. Brief, TIMEs politics newsletter. Sign up here to get stories like this sent to your inbox.\\r\\nNo poll is predictive. Every single one of them is a measure of a specifi… [+10789 chars]')\n",
      "(3, None, 'The Atlantic', 3, 'The Man Who Will Do Anything for Trump', 'Why Kash Patel is exactly the kind of person who would serve in a second Trump administration', 'https://www.theatlantic.com/magazine/archive/2024/10/kash-patel-trump-national-security-council/679566/?utm_source=feed', None, '2024-08-26T10:00:00Z', 'Illustrations by Diego MalloKash Patel was dangerous. On this both Trump appointees and career officials could agree.A 40-year-old lawyer with little government experience, he joined the administrati… [+37416 chars]')\n",
      "(4, None, 'Vpnmentor.com', 6, '4.6M Voter and Election Documents Exposed Online by Technology Contractor', '4.6 million documents, belonging to Platinum Technology Resource, including voter records, ballots, multiple lists, and election-related records exposed online.', 'https://www.vpnmentor.com/news/report-election-records-breach/', 'https://www.vpnmentor.com/wp-content/uploads/2024/08/4-6-million-voters_optimized.png', '2024-08-25T14:45:41Z', 'Cybersecurity Researcher, Jeremiah Fowler, discovered and reported to VpnMentor about the discovery of 13 non-password-protected databases that contained 4.6 million documents, including voter record… [+12744 chars]')\n",
      "(5, 'cnn', 'CNN', 8, 'Gen. McMaster’s blistering account of the Trump White House', 'Until now, Lt. Gen. H.R. McMaster has held his fire about his stint in the Trump White House. McMaster served with distinction in key American conflicts of...', 'https://www.cnn.com/2024/08/25/politics/mcmaster-trump-book-account/index.html', 'https://media.zenfs.com/en/cnn_articles_875/e974e9874be1c2f1dd41299ad241a951', '2024-08-25T15:00:02Z', 'Until now, Lt. Gen. H.R. McMaster has held his fire about his stint in the Trump White House. McMaster served with distinction in key American conflicts of the past decades: the Gulf War, the Iraq Wa… [+8851 chars]')\n"
     ]
    }
   ],
   "source": [
    "get_table_info(db, 'posts')"
   ]
  }
 ],
 "metadata": {
  "kernelspec": {
   "display_name": "ghost-net",
   "language": "python",
   "name": "python3"
  },
  "language_info": {
   "codemirror_mode": {
    "name": "ipython",
    "version": 3
   },
   "file_extension": ".py",
   "mimetype": "text/x-python",
   "name": "python",
   "nbconvert_exporter": "python",
   "pygments_lexer": "ipython3",
   "version": "3.10.0"
  }
 },
 "nbformat": 4,
 "nbformat_minor": 2
}
