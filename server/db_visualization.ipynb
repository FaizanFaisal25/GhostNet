{
 "cells": [
  {
   "cell_type": "code",
   "execution_count": 21,
   "metadata": {},
   "outputs": [],
   "source": [
    "import json\n",
    "from datetime import datetime, timedelta\n",
    "import random\n",
    "import sqlite3\n",
    "from config import DATABASE"
   ]
  },
  {
   "cell_type": "code",
   "execution_count": 22,
   "metadata": {},
   "outputs": [],
   "source": [
    "db = sqlite3.connect(DATABASE)"
   ]
  },
  {
   "cell_type": "code",
   "execution_count": 23,
   "metadata": {},
   "outputs": [],
   "source": [
    "def get_table_info(db, table_name, get_all_items=False):\n",
    "    cursor = db.cursor()\n",
    "\n",
    "    count_query = f\"SELECT COUNT(*) FROM {table_name}\"\n",
    "    cursor.execute(count_query)\n",
    "    row_count = cursor.fetchone()[0]\n",
    "\n",
    "    if get_all_items:\n",
    "        select_query = f\"SELECT * FROM {table_name}\"\n",
    "    else:\n",
    "        select_query = f\"SELECT * FROM {table_name} LIMIT 5\"\n",
    "\n",
    "    cursor.execute(select_query)\n",
    "    items = cursor.fetchall()\n",
    "\n",
    "    print(f\"Number of items in the table '{table_name}': {row_count}\")\n",
    "    if get_all_items:\n",
    "        print(\"All items:\")\n",
    "    else:\n",
    "        print(\"First 5 items:\")\n",
    "\n",
    "    for item in items:\n",
    "        print(item)"
   ]
  },
  {
   "cell_type": "code",
   "execution_count": 24,
   "metadata": {},
   "outputs": [
    {
     "name": "stdout",
     "output_type": "stream",
     "text": [
      "Number of items in the table 'users': 9\n",
      "First 5 items:\n",
      "(1, 'Sarah Thompson', '2000-05-24T02:55:28Z', 'Berlin, Germany', 'I’m Sarah Thompson, a climate activist from Berlin. I’m committed to fighting for social justice and environmental sustainability. I believe in the power of grassroots movements to bring about meaningful change, and I work tirelessly to push for policies that promote wealth redistribution and decolonization. Join me in the fight for a better world!', None)\n",
      "(2, \"James 'Jim' Anderson\", '1976-11-17T06:07:56Z', 'Toronto, Canada', 'Hi, I’m Jim Anderson. I’ve transitioned from journalism to social media commentary because I believe it’s vital to speak out about social welfare, healthcare, and education reform. My goal is to advocate for a fairer society where everyone has access to essential services. I’m passionate about universal healthcare and holding corporations accountable for their impact on society.', None)\n",
      "(3, 'Marta Kowalska', '1992-07-22T05:18:40Z', 'Warsaw, Poland', 'Hello, I’m Marta Kowalska, a tech entrepreneur from Warsaw. I believe in finding a balance between economic growth and social responsibility. My background in cybersecurity informs my passion for digital rights and privacy issues. I advocate for policies that protect individual freedoms while promoting innovation and progress in the tech sector.', None)\n",
      "(4, 'Tommy Rivera', '1969-07-06T00:47:17Z', 'Dallas, USA', 'I’m Tommy Rivera, a retired military officer now turned political podcaster. My experiences in the military have shaped my beliefs in the importance of national security, strong defense, and the need for responsible governance. I advocate for conservative values, including limited government and personal responsibility, and I believe in upholding traditional family values.', None)\n",
      "(5, 'Charlotte Devereaux', '1957-07-13T20:00:49Z', 'Lyon, France', 'I’m Charlotte Devereaux, a former history professor who now dedicates my time to blogging about traditional values. I believe in preserving our cultural heritage and maintaining strong national sovereignty. My writings often focus on the importance of family, religion, and education, and I advocate for policies that reflect these values.', None)\n"
     ]
    }
   ],
   "source": [
    "get_table_info(db, 'users')"
   ]
  },
  {
   "cell_type": "code",
   "execution_count": null,
   "metadata": {},
   "outputs": [],
   "source": []
  }
 ],
 "metadata": {
  "kernelspec": {
   "display_name": "ghost-net",
   "language": "python",
   "name": "python3"
  },
  "language_info": {
   "codemirror_mode": {
    "name": "ipython",
    "version": 3
   },
   "file_extension": ".py",
   "mimetype": "text/x-python",
   "name": "python",
   "nbconvert_exporter": "python",
   "pygments_lexer": "ipython3",
   "version": "3.10.0"
  }
 },
 "nbformat": 4,
 "nbformat_minor": 2
}
