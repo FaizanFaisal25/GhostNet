{
 "cells": [
  {
   "cell_type": "code",
   "execution_count": null,
   "metadata": {},
   "outputs": [],
   "source": [
    "import json\n",
    "from datetime import datetime, timedelta\n",
    "import random\n",
    "import sqlite3\n",
    "from config import DATABASE\n",
    "from db_functions import *"
   ]
  },
  {
   "cell_type": "code",
   "execution_count": null,
   "metadata": {},
   "outputs": [],
   "source": [
    "db = sqlite3.connect(DATABASE)"
   ]
  },
  {
   "cell_type": "code",
   "execution_count": null,
   "metadata": {},
   "outputs": [],
   "source": [
    "def get_table_info(db, table_name, get_all_items=False):\n",
    "    cursor = db.cursor()\n",
    "\n",
    "    count_query = f\"SELECT COUNT(*) FROM {table_name}\"\n",
    "    cursor.execute(count_query)\n",
    "    row_count = cursor.fetchone()[0]\n",
    "\n",
    "    if get_all_items:\n",
    "        select_query = f\"SELECT * FROM {table_name}\"\n",
    "    else:\n",
    "        select_query = f\"SELECT * FROM {table_name} LIMIT 5\"\n",
    "\n",
    "    cursor.execute(select_query)\n",
    "    items = cursor.fetchall()\n",
    "\n",
    "    print(f\"Number of items in the table '{table_name}': {row_count}\")\n",
    "    if get_all_items:\n",
    "        print(\"All items:\")\n",
    "    else:\n",
    "        print(\"First 5 items:\")\n",
    "\n",
    "    for item in items:\n",
    "        print(item)"
   ]
  },
  {
   "cell_type": "code",
   "execution_count": null,
   "metadata": {},
   "outputs": [],
   "source": [
    "get_table_info(db, 'users')"
   ]
  },
  {
   "cell_type": "code",
   "execution_count": null,
   "metadata": {},
   "outputs": [],
   "source": [
    "get_table_info(db, 'posts')"
   ]
  }
 ],
 "metadata": {
  "kernelspec": {
   "display_name": "ghost-net",
   "language": "python",
   "name": "python3"
  },
  "language_info": {
   "codemirror_mode": {
    "name": "ipython",
    "version": 3
   },
   "file_extension": ".py",
   "mimetype": "text/x-python",
   "name": "python",
   "nbconvert_exporter": "python",
   "pygments_lexer": "ipython3",
   "version": "3.10.0"
  }
 },
 "nbformat": 4,
 "nbformat_minor": 2
}
