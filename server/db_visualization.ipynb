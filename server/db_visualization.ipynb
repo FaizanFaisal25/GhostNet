{
 "cells": [
  {
   "cell_type": "code",
   "execution_count": 10,
   "metadata": {},
   "outputs": [],
   "source": [
    "import json\n",
    "from datetime import datetime, timedelta\n",
    "import random\n",
    "import sqlite3\n",
    "from config import DATABASE\n",
    "from db_functions import *\n",
    "import faker\n",
    "from util import get_and_save_profile_picture"
   ]
  },
  {
   "cell_type": "code",
   "execution_count": 11,
   "metadata": {},
   "outputs": [],
   "source": [
    "db = sqlite3.connect(DATABASE)"
   ]
  },
  {
   "cell_type": "code",
   "execution_count": 12,
   "metadata": {},
   "outputs": [],
   "source": [
    "def get_table_info(db, table_name, get_all_items=False):\n",
    "    cursor = db.cursor()\n",
    "\n",
    "    count_query = f\"SELECT COUNT(*) FROM {table_name}\"\n",
    "    cursor.execute(count_query)\n",
    "    row_count = cursor.fetchone()[0]\n",
    "\n",
    "    if get_all_items:\n",
    "        select_query = f\"SELECT * FROM {table_name}\"\n",
    "    else:\n",
    "        select_query = f\"SELECT * FROM {table_name} LIMIT 5\"\n",
    "\n",
    "    cursor.execute(select_query)\n",
    "    items = cursor.fetchall()\n",
    "\n",
    "    print(f\"Number of items in the table '{table_name}': {row_count}\")\n",
    "    if get_all_items:\n",
    "        print(\"All items:\")\n",
    "    else:\n",
    "        print(\"First 5 items:\")\n",
    "\n",
    "    for item in items:\n",
    "        print(item)\n",
    "\n",
    "    return items"
   ]
  },
  {
   "cell_type": "code",
   "execution_count": 13,
   "metadata": {},
   "outputs": [
    {
     "name": "stdout",
     "output_type": "stream",
     "text": [
      "Number of items in the table 'users': 9\n",
      "First 5 items:\n",
      "(1, 'Sarah Thompson', '2000-05-24T02:55:28Z', 'Berlin, Germany', 'I’m Sarah Thompson, a climate activist from Berlin. I’m committed to fighting for social justice and environmental sustainability. I believe in the power of grassroots movements to bring about meaningful change, and I work tirelessly to push for policies that promote wealth redistribution and decolonization. Join me in the fight for a better world!', '1.png', 'female')\n",
      "(2, 'James Anderson', '1976-11-17T06:07:56Z', 'Toronto, Canada', 'Hi, I’m Jim Anderson. I’ve transitioned from journalism to social media commentary because I believe it’s vital to speak out about social welfare, healthcare, and education reform. My goal is to advocate for a fairer society where everyone has access to essential services. I’m passionate about universal healthcare and holding corporations accountable for their impact on society.', '2.png', 'male')\n",
      "(3, 'Marta Kowalska', '1992-07-22T05:18:40Z', 'Warsaw, Poland', 'Hello, I’m Marta Kowalska, a tech entrepreneur from Warsaw. I believe in finding a balance between economic growth and social responsibility. My background in cybersecurity informs my passion for digital rights and privacy issues. I advocate for policies that protect individual freedoms while promoting innovation and progress in the tech sector.', '3.png', 'female')\n",
      "(4, 'Tommy Rivera', '1969-07-06T00:47:17Z', 'Dallas, USA', 'I’m Tommy Rivera, a retired military officer now turned political podcaster. My experiences in the military have shaped my beliefs in the importance of national security, strong defense, and the need for responsible governance. I advocate for conservative values, including limited government and personal responsibility, and I believe in upholding traditional family values.', '4.png', 'male')\n",
      "(5, 'Charlotte Devereaux', '1957-07-13T20:00:49Z', 'Lyon, France', 'I’m Charlotte Devereaux, a former history professor who now dedicates my time to blogging about traditional values. I believe in preserving our cultural heritage and maintaining strong national sovereignty. My writings often focus on the importance of family, religion, and education, and I advocate for policies that reflect these values.', '5.png', 'female')\n"
     ]
    }
   ],
   "source": [
    "get_table_info(db, 'users')\n",
    "pass"
   ]
  },
  {
   "cell_type": "code",
   "execution_count": 14,
   "metadata": {},
   "outputs": [
    {
     "name": "stdout",
     "output_type": "stream",
     "text": [
      "Number of items in the table 'posts': 14\n",
      "First 5 items:\n",
      "(1, 'business-insider', 'Business Insider', 7, 'The courts could decide this presidential election, and both campaigns are gearing up for an ugly legal fight', \"Legal challenges to the outcome of this year's election are all but inevitable, and both campaigns are preparing for a nasty fight in court.\", 'https://www.businessinsider.com/donald-trump-kamala-harris-preparing-legal-challenges-election-decided-court-2024-8', 'https://i.insider.com/66cb9e61c72ebc54a40ea6d0?width=1200&format=jpeg', '2024-08-26T09:22:02Z', \"Both the Trump and Harris campaigns are gearing up for a nasty legal battle in court over the outcome of this year's election.Brandon Bell/Getty Images and Andrew Harnik/Getty Images\\r\\n<ul><li>Legal e… [+4717 chars]\")\n",
      "(2, 'time', 'Time', 5, 'How to Read Political Polls Like a Pro', \"It's easy to misread polls. Here's a handy guide to what campaign professionals consider with every poll they see\", 'https://time.com/7012220/how-read-political-polls-like-a-pro/', 'https://api.time.com/wp-content/uploads/2024/08/political-polls-2.gif?w=1200&h=628&crop=1', '2024-08-26T11:00:00Z', 'This article is part of The D.C. Brief, TIMEs politics newsletter. Sign up here to get stories like this sent to your inbox.\\r\\nNo poll is predictive. Every single one of them is a measure of a specifi… [+10789 chars]')\n",
      "(3, None, 'The Atlantic', 2, 'The Man Who Will Do Anything for Trump', 'Why Kash Patel is exactly the kind of person who would serve in a second Trump administration', 'https://www.theatlantic.com/magazine/archive/2024/10/kash-patel-trump-national-security-council/679566/?utm_source=feed', None, '2024-08-26T10:00:00Z', 'Illustrations by Diego MalloKash Patel was dangerous. On this both Trump appointees and career officials could agree.A 40-year-old lawyer with little government experience, he joined the administrati… [+37416 chars]')\n",
      "(4, None, 'Vpnmentor.com', 4, '4.6M Voter and Election Documents Exposed Online by Technology Contractor', '4.6 million documents, belonging to Platinum Technology Resource, including voter records, ballots, multiple lists, and election-related records exposed online.', 'https://www.vpnmentor.com/news/report-election-records-breach/', 'https://www.vpnmentor.com/wp-content/uploads/2024/08/4-6-million-voters_optimized.png', '2024-08-25T14:45:41Z', 'Cybersecurity Researcher, Jeremiah Fowler, discovered and reported to VpnMentor about the discovery of 13 non-password-protected databases that contained 4.6 million documents, including voter record… [+12744 chars]')\n",
      "(5, 'cnn', 'CNN', 2, 'Gen. McMaster’s blistering account of the Trump White House', 'Until now, Lt. Gen. H.R. McMaster has held his fire about his stint in the Trump White House. McMaster served with distinction in key American conflicts of...', 'https://www.cnn.com/2024/08/25/politics/mcmaster-trump-book-account/index.html', 'https://media.zenfs.com/en/cnn_articles_875/e974e9874be1c2f1dd41299ad241a951', '2024-08-25T15:00:02Z', 'Until now, Lt. Gen. H.R. McMaster has held his fire about his stint in the Trump White House. McMaster served with distinction in key American conflicts of the past decades: the Gulf War, the Iraq Wa… [+8851 chars]')\n"
     ]
    }
   ],
   "source": [
    "get_table_info(db, 'posts')\n",
    "pass"
   ]
  },
  {
   "cell_type": "code",
   "execution_count": 15,
   "metadata": {},
   "outputs": [
    {
     "name": "stdout",
     "output_type": "stream",
     "text": [
      "Number of items in the table 'comments': 0\n",
      "First 5 items:\n"
     ]
    }
   ],
   "source": [
    "get_table_info(db, 'comments')\n",
    "pass"
   ]
  },
  {
   "cell_type": "markdown",
   "metadata": {},
   "source": [
    "# Insert comments\n"
   ]
  },
  {
   "cell_type": "code",
   "execution_count": 16,
   "metadata": {},
   "outputs": [],
   "source": [
    "from faker import Faker\n",
    "from tqdm import tqdm\n",
    "import time\n",
    "\n",
    "fake = Faker()"
   ]
  },
  {
   "cell_type": "code",
   "execution_count": 17,
   "metadata": {},
   "outputs": [
    {
     "name": "stderr",
     "output_type": "stream",
     "text": [
      "100%|██████████| 5/5 [00:00<00:00, 363.21it/s]\n",
      "100%|██████████| 5/5 [00:00<00:00, 330.18it/s]\n",
      "100%|██████████| 5/5 [00:00<00:00, 434.07it/s]\n",
      "100%|██████████| 5/5 [00:00<00:00, 493.09it/s]\n",
      "100%|██████████| 5/5 [00:00<00:00, 476.46it/s]\n",
      "100%|██████████| 5/5 [00:00<00:00, 486.44it/s]\n",
      "100%|██████████| 5/5 [00:00<00:00, 376.85it/s]\n",
      "100%|██████████| 5/5 [00:00<00:00, 399.65it/s]\n",
      "100%|██████████| 5/5 [00:00<00:00, 338.67it/s]\n",
      "100%|██████████| 5/5 [00:00<00:00, 402.38it/s]\n",
      "100%|██████████| 5/5 [00:00<00:00, 424.66it/s]\n",
      "100%|██████████| 5/5 [00:00<00:00, 497.66it/s]\n",
      "100%|██████████| 5/5 [00:00<00:00, 266.78it/s]]\n",
      "100%|██████████| 5/5 [00:00<00:00, 444.80it/s]\n",
      "100%|██████████| 14/14 [00:00<00:00, 48.22it/s]\n"
     ]
    }
   ],
   "source": [
    "for post_id in tqdm(range(1, 15)):\n",
    "    for _ in tqdm(range(5)):\n",
    "        random_paragraph = fake.text(max_nb_chars=200)\n",
    "        add_comment(db, post_id, random.choice(range(9)), random_paragraph)"
   ]
  }
 ],
 "metadata": {
  "kernelspec": {
   "display_name": "ghost-net",
   "language": "python",
   "name": "python3"
  },
  "language_info": {
   "codemirror_mode": {
    "name": "ipython",
    "version": 3
   },
   "file_extension": ".py",
   "mimetype": "text/x-python",
   "name": "python",
   "nbconvert_exporter": "python",
   "pygments_lexer": "ipython3",
   "version": "3.10.0"
  }
 },
 "nbformat": 4,
 "nbformat_minor": 2
}
